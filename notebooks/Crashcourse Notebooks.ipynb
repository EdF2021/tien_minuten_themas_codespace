{
  "nbformat": 4,
  "nbformat_minor": 5,
  "metadata": {
    "kernel_info": {
      "name": "python3"
    },
    "kernelspec": {
      "display_name": "Python 3.9",
      "identifier": "legacy",
      "language": "python",
      "language_version": "3.9",
      "name": "python3"
    },
    "selected_hardware_size": "small"
  },
  "cells": [
    {
      "id": "873f4c50db114efc99141e6c0f264522",
      "cell_type": "markdown",
      "source": "# Crashcourse Notebooks\n**Wat zijn Notebooks, en waarvoor worden ze gebruikt?** \nNotebooks worden veel gebruikt door Data Scientists om (tussen) rapportages te presenteren en met opdrachtgevers te delen. Notebooks stellen je in staat om documentatie, uitvoerbare code, gegevenstabellen en grafieken te presenteren en te schrijven, allemaal in één gemakkelijk toegankelijk document. Notebooks stellen je in staat om op één plek je inzichten die je uit data hebt verkregen te delen. De mogelijkheden van een Notebook bieden zo een platform om effectief te communiceren met behulp van aantekeningen, grafieken, tabellen en code.\n\nOok dit document is een Notebook.\n",
      "metadata": {
        "noteable": {
          "cell_type": "markdown"
        }
      }
    },
    {
      "id": "bfffdb89-cb89-4574-8e70-f7d6fd109bd9",
      "cell_type": "markdown",
      "source": "## 🧱 Notebooks bestaan uit cellen\nNotebooks bestaan ​​uit twee hoofdtypen cellen:\n1. **Markdown-cellen**  \nDeze cellen kunnen worden gebruikt om goed opgemaakte beschrijvingen, aantekeningen, documentatie toe te voegen.\n2. **Code-cellen**\n    - Python  \nDeze cellen bevatten uitvoerbare Python-code.\n    - SQL  \nDeze cellen bevatten SQL-code die kan worden gebruikt om lokale CSV-bestanden, dataframes of externe databaseverbindingen te bevragen",
      "metadata": {
        "noteable": {
          "cell_type": "markdown"
        }
      }
    },
    {
      "id": "3f7a4f3f-70be-4bf7-b33c-cffc055dec66",
      "cell_type": "markdown",
      "source": "### Dit is een markdown-cel\n\nAls je **dubbelklikt** op deze cel, schakel je over naar de bewerkingsmodus, waar je enkele van de markdown-syntaxis zult zien die in deze cel is gebruikt. Om de bewerkingsmodus te verlaten, kun je de sneltoets **Ctrl+Enter** gebruiken om deze cel te renderen, of eenvoudigweg op Esc \ndrukken.\n\n- dubbelklik nu op deze cel,\n- verwijder dan bovenaan een # \n- klik dan op **Ctrl+Enter**\n\nJe kan in een Markdowncel dus de opmaak en inhoud wijzigen.\n",
      "metadata": {
        "noteable": {
          "cell_type": "markdown"
        }
      }
    },
    {
      "id": "3d861049-fe73-4a88-af3a-b2587f56caf8",
      "cell_type": "markdown",
      "source": "### 🧑‍💻 Codecellen  \nCodecellen stellen je in staat om code te schrijven in o.a. Python, SQL, R, die rechtstreeks in dit document kan worden uitgevoerd.\n\nMet codecellen krijg je intuïtieve syntax highlighting om de code leesbaar te maken. Wanneer je over de cel beweegt, zie je dat het celtype is geselecteerd als Python",
      "metadata": {
        "noteable": {
          "cell_type": "markdown"
        }
      }
    },
    {
      "id": "1edd53b7-6bbd-48f9-af1a-b2e8dba11e91",
      "cell_type": "markdown",
      "source": "Hieronder zie je een Python code cell, waarin we ruwe data inlezen van het World Happiness Rapport, en deze in een tabel tonen in de Notebook.\n\n<font color=\"red\">TIP</font>: **Probeer eens de knop Visualize en zie hoe je de tabel in een mooie grafiek kan veranderen**\n\n",
      "metadata": {
        "noteable": {
          "cell_type": "markdown"
        }
      }
    },
    {
      "id": "e6d380b4-3752-46c1-a65f-10abcd353ab5",
      "cell_type": "code",
      "metadata": {
        "noteable": {
          "cell_type": "python",
          "output_collection_id": "5b7d429b-be41-485a-a779-c999635c0a90"
        },
        "ExecuteTime": {
          "end_time": "2023-11-13T09:31:49.630746+00:00",
          "start_time": "2023-11-13T09:31:49.386192+00:00"
        },
        "datalink": {
          "3cfeed9a-1f04-41e9-a842-d6f44ef3d0d8": {
            "applied_filters": [],
            "dataframe_info": {
              "default_index_used": true,
              "orig_num_cols": 12,
              "orig_num_rows": 158,
              "orig_size_bytes": 16432,
              "truncated_num_cols": 12,
              "truncated_num_rows": 158,
              "truncated_size_bytes": 16432,
              "truncated_string_columns": []
            },
            "display_id": "3cfeed9a-1f04-41e9-a842-d6f44ef3d0d8",
            "dx_settings": {
              "ALLOW_NOTEABLE_ATTRS": true,
              "COLUMN_SAMPLING_METHOD": "outer",
              "DB_LOCATION": ":memory:",
              "DEV_MODE": false,
              "DISPLAY_MAX_COLUMNS": 100,
              "DISPLAY_MAX_ROWS": 50000,
              "DISPLAY_MODE": "simple",
              "ENABLE_ASSIGNMENT": true,
              "ENABLE_DATALINK": true,
              "FLATTEN_COLUMN_VALUES": true,
              "FLATTEN_INDEX_VALUES": false,
              "GENERATE_DEX_METADATA": false,
              "HTML_TABLE_SCHEMA": false,
              "LOG_LEVEL": 30,
              "MAX_RENDER_SIZE_BYTES": 104857600,
              "MAX_STRING_LENGTH": 250,
              "NUM_PAST_SAMPLES_TRACKED": 3,
              "RANDOM_STATE": 12648430,
              "RESET_INDEX_VALUES": false,
              "ROW_SAMPLING_METHOD": "random",
              "SAMPLING_FACTOR": 0.1,
              "SAMPLING_METHOD": "random",
              "STRINGIFY_COLUMN_VALUES": true,
              "STRINGIFY_INDEX_VALUES": false
            },
            "sample_history": [],
            "sampling_time": "2023-11-13T09:16:24.547095",
            "user_variable_name": "happiness_df",
            "variable_name": "happiness_df"
          },
          "4b8ef89d-3452-42d1-9bed-907651316482": {
            "applied_filters": [],
            "dataframe_info": {
              "default_index_used": true,
              "orig_num_cols": 5,
              "orig_num_rows": 384,
              "orig_size_bytes": 18432,
              "truncated_num_cols": 5,
              "truncated_num_rows": 384,
              "truncated_size_bytes": 18432,
              "truncated_string_columns": []
            },
            "display_id": "4b8ef89d-3452-42d1-9bed-907651316482",
            "dx_settings": {
              "ALLOW_NOTEABLE_ATTRS": true,
              "COLUMN_SAMPLING_METHOD": "outer",
              "DB_LOCATION": ":memory:",
              "DEV_MODE": false,
              "DISPLAY_MAX_COLUMNS": 100,
              "DISPLAY_MAX_ROWS": 50000,
              "DISPLAY_MODE": "simple",
              "ENABLE_ASSIGNMENT": true,
              "ENABLE_DATALINK": true,
              "FLATTEN_COLUMN_VALUES": true,
              "FLATTEN_INDEX_VALUES": false,
              "GENERATE_DEX_METADATA": false,
              "HTML_TABLE_SCHEMA": false,
              "LOG_LEVEL": 30,
              "MAX_RENDER_SIZE_BYTES": 104857600,
              "MAX_STRING_LENGTH": 250,
              "NUM_PAST_SAMPLES_TRACKED": 3,
              "RANDOM_STATE": 12648430,
              "RESET_INDEX_VALUES": false,
              "ROW_SAMPLING_METHOD": "random",
              "SAMPLING_FACTOR": 0.1,
              "SAMPLING_METHOD": "random",
              "STRINGIFY_COLUMN_VALUES": true,
              "STRINGIFY_INDEX_VALUES": false
            },
            "sample_history": [],
            "sampling_time": "2023-11-13T09:30:42.477146",
            "user_variable_name": "happiness_df",
            "variable_name": "happiness_df"
          },
          "5081c181-544b-41b3-934c-4674e0943c15": {
            "applied_filters": [],
            "dataframe_info": {
              "default_index_used": true,
              "orig_num_cols": 12,
              "orig_num_rows": 158,
              "orig_size_bytes": 16432,
              "truncated_num_cols": 12,
              "truncated_num_rows": 158,
              "truncated_size_bytes": 16432,
              "truncated_string_columns": []
            },
            "display_id": "5081c181-544b-41b3-934c-4674e0943c15",
            "dx_settings": {
              "ALLOW_NOTEABLE_ATTRS": true,
              "COLUMN_SAMPLING_METHOD": "outer",
              "DB_LOCATION": ":memory:",
              "DEV_MODE": false,
              "DISPLAY_MAX_COLUMNS": 100,
              "DISPLAY_MAX_ROWS": 50000,
              "DISPLAY_MODE": "simple",
              "ENABLE_ASSIGNMENT": true,
              "ENABLE_DATALINK": true,
              "FLATTEN_COLUMN_VALUES": true,
              "FLATTEN_INDEX_VALUES": false,
              "GENERATE_DEX_METADATA": false,
              "HTML_TABLE_SCHEMA": false,
              "LOG_LEVEL": 30,
              "MAX_RENDER_SIZE_BYTES": 104857600,
              "MAX_STRING_LENGTH": 250,
              "NUM_PAST_SAMPLES_TRACKED": 3,
              "RANDOM_STATE": 12648430,
              "RESET_INDEX_VALUES": false,
              "ROW_SAMPLING_METHOD": "random",
              "SAMPLING_FACTOR": 0.1,
              "SAMPLING_METHOD": "random",
              "STRINGIFY_COLUMN_VALUES": true,
              "STRINGIFY_INDEX_VALUES": false
            },
            "sample_history": [],
            "sampling_time": "2023-11-13T09:31:49.469074",
            "user_variable_name": "happiness_df",
            "variable_name": "happiness_df"
          }
        },
        "dx": {
          "dashboard": {
            "multiViews": []
          },
          "fieldMetadata": {
            "Country": {
              "columnPosition": 2
            },
            "Dystopia Residual": {
              "columnPosition": 13
            },
            "Economy (GDP per Capita)": {
              "columnPosition": 7
            },
            "Family": {
              "columnPosition": 8
            },
            "Freedom": {
              "columnPosition": 10
            },
            "Generosity": {
              "columnPosition": 12
            },
            "Happiness Rank": {
              "columnPosition": 5
            },
            "Happiness Score": {
              "aggregation": "AVG",
              "columnPosition": 3
            },
            "Health (Life Expectancy)": {
              "columnPosition": 9
            },
            "Region": {
              "columnPosition": 1
            },
            "Standard Error": {
              "columnPosition": 6
            },
            "Trust (Government Corruption)": {
              "columnPosition": 11
            },
            "index": {
              "columnPosition": 4
            }
          },
          "simpleTable": false,
          "updated": 1699868932926,
          "views": [
            {
              "annotationRules": [],
              "chart": {},
              "chartMode": "grid",
              "confoRules": [],
              "decoration": {
                "footer": "",
                "subtitle": "",
                "title": "Table"
              },
              "facets": [],
              "filterSettings": {
                "SHOW_FILTER_PANEL": true,
                "filters": []
              },
              "id": "first-view",
              "isDefault": true,
              "type": "public",
              "userID": ""
            },
            {
              "annotationRules": [],
              "chart": {
                "tableSparklines": true
              },
              "chartMode": "grid",
              "confoRules": [],
              "decoration": {
                "footer": "",
                "subtitle": "",
                "title": "Table"
              },
              "facets": [],
              "filterSettings": {
                "SHOW_FILTER_PANEL": true,
                "filters": []
              },
              "id": "first-view",
              "isDefault": true,
              "isTransitory": true,
              "type": "public",
              "userID": ""
            }
          ]
        },
        "jupyter": {
          "source_hidden": true
        }
      },
      "execution_count": null,
      "source": "import pandas as pd \n#example web-hosted dataset\n##path='https://duo.nl/open_onderwijsdata/images/onderwijsaanbieders-mbo-met-inschrijvingen-per-1-oktober-2022.xlsx'\n# happiness_df = pd.read_excel(path)\npath = 'https://data.noteable.io/2015.csv'\nhappiness_df = pd.read_csv(path)\nhappiness_df",
      "outputs": []
    },
    {
      "id": "a524ba7e-a3c5-422b-9a4f-0e125757f0ae",
      "cell_type": "markdown",
      "source": "<font color=\"red\">TIP </font>:\nDubbelklik op bovenstaande Python code cel om te bewerken en verander de variabelen **path** en **happiness_df** in:\n\n`path = 'https://duo.nl/open_onderwijsdata/images/onderwijsaanbieders-mbo-met-inschrijvingen-per-1-oktober-2022.xlsx'`\n\n`happiness_df = pd.read_excel(path)\n`    \n<br>\n\n<font color=\"red\">Je ziet dat je zo ook eenvoudig data van de DUO kan inlezen en analyseren </font>.",
      "metadata": {
        "noteable": {
          "cell_type": "markdown"
        }
      }
    }
  ]
}