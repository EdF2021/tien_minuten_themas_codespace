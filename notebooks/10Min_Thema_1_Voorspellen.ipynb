{
  "cells": [
    {
      "cell_type": "markdown",
      "id": "cda4ce42",
      "metadata": {
        "papermill": {
          "duration": 0.005446,
          "end_time": "2023-04-21T13:39:10.654077",
          "exception": false,
          "start_time": "2023-04-21T13:39:10.648631",
          "status": "completed"
        },
        "tags": []
      },
      "source": [
        "# 10 <font color=\"darkorange\">M</font>inuten <font color=\"darkorange\">T</font>hema's\n",
        "##### Een serie *Notebooks* waarin relevante AI/Data Science onderwerpen binnen het MBO onderwijs domein, beknopt en praktisch worden toegelicht. \n",
        "> 💡 **TIP** Niet eerder met een Notebook gewerkt? Volg dan eerst deze korte [Crash Course Notebooks](notebooks/Crashcourse Notebooks.ipynb) waar in korte tijd kennismaakt met doel en werking van een Notebook.\n",
        "\n",
        "| | ![Horizon College Logo](horizon_logo.png) |\n",
        "| :--- | :--- |\n",
        "| **Maintainer:** | [Ed. de Feber](mailto://e.defeber@horizoncollege.nl) |\n",
        "| | *Adviseur AI en Data Ondersteund Onderwijs* | \n",
        "| **Last change:** | 2023 November 8 |\n",
        "<br>\n",
        "\n",
        "| Tags | Beschrijving |\n",
        "| :--- | :---|\n",
        "| **HC** | **H**orizon **C**ollege |\n",
        "| **AI** | **A**rtificial **I**ntelligence |\n",
        "| **DOO** | **D**ata **O**ndersteund **O**nderwijs |\n",
        "| **MBO** | **M**iddelbaar **B**eroeps **O**nderwijs |\n",
        "\n",
        "<br>\n",
        "\n",
        "De 10 Minuten Thema's zijn bedoeld voor 👩‍🍳 👨‍🎓 👨‍🏫 👩‍ iedereen die betrokken 💼 👨‍🔧 👮‍♀️ en/of werkzaam 👨‍🎓 👨‍💻 👨‍ is bij het MBO onderwijs. Per thema wil ik inhoudelijk ingaan op een, voor het onderwijs, relevant onderwerp uit de AI/Data Science. En omdat er van ons MBO-ers wordt verwacht om niet alleen te l...n maar ook te poetsen, zal ik daar waar mogelijk voorbeelden met bijbehorende broncode (Python, SQL, ...) laten zien waarmee je zelf kan gaan experimenteren.  \n",
        "\n",
        "> Het doel van eeen 10 Minuten Thema is om je in korte tijd, zo goed mogelijk op de hoogte te brengen van *de werking en betekenis van een bepaalde theorie, model, methode of techniek uit de AI/ Data Science wetenschap.\n",
        "\n",
        "Vandaag trappen we af met **<font color=\"darkorange\">10MT</font> deel 1** - Voorspellen met Machine Learning. \n",
        "\n",
        "Het is mijn eerste 10 Minuten Thema en tast nog in het duister  omtrent vorm, nut, informatiedichtheid, enz. <iframe width=\"260\" height=\"115\" src=\"https://www.youtube.com/embed/WZ6p4t3StSc?si=Yr-lOUWgIj52sRt9&amp;clip=Ugkxc_cz35413jVrAhcwzSUuEXvvDVDfsIei&amp;clipt=EIzwAxi-pQQ\" title=\"YouTube video player\" frameborder=\"0\" allow=\"accelerometer; autoplay; clipboard-write; encrypted-media; gyroscope; picture-in-picture; web-share\"></iframe> \n",
        "\n",
        "Dus jullie opmerkingen, tips, of feedback over bijvoorbeeld niveau (te moeilijk of juist te makkelijk), of verzoeken voor een bepaald onderwerp, zijn van harte welkom en stuur je naar [Ed. de Feber](mailto://e.defeber@horizoncollege.nl)\n",
        "\n",
        "# Voorspellen met Machine Learning<br>\n",
        "**<font color=\"darkorange\">10MT</font> deel 1**\n",
        "-----------------------------\n",
        "\n",
        "Om van een grote hoeveelheid data, zoals bijvoorbeeld de opgeslagen studenten data in ons kern registratie systeem ( bijv. Eduarte ), te komen tot zinvolle, actierijke informatie, zal een dataspecialist een bepaalde statistische analyse uitvoeren. Het soort analyse, en op welk niveau dit plaatsvindt, hangt over het algemeen af van het doel of vraag vanuit de organisatie.\n",
        "\n",
        "Een veel gebruikt model is het model van **Gartner** ![Model van Gardner](gartner.PNG) In dit model worden 4 type vragen aan 4 soorten analyses gekoppeld:\n",
        "1. **Wat is** er gebeurd?      --> **Beschrijvende** analyse\n",
        "2. **Waarom** is het gebeurd? --> **Verklarende** analyse\n",
        "3. **Wat zal** er gaan gebeuren? --> **Voorspellende** analyse\n",
        "4. **Hoe** gaan we het (niet) laten gebeuren --> **Voorschrijvende** analyse\n",
        "\n",
        "In dit document zoom ik in op de 3e \"**Wat zal**\" vraag en **de voorspellende analyse**. \n",
        "\n",
        "## Met een voorspelling vroegtijdig anticiperen\n",
        "Ben je bij vraag 1 en 2 nog bezig te beschrijven wat bijvoorbeeld de huidige financiële situatie is, of wat het aantal ingeschreven studenten op een bepaalde peildatum bij de diverse opleidingen is, of met het beschrijven en verklaren van het aantal VSV-ers verdeeld over de sectoren en niveau's. \n",
        "\n",
        "Bij de voorspellende analyse wil je niet alleen het aantal en oorzaak van VSV-ers weten, maar wil je bijvoorbeeld voorspellingen over het aantal te verwachte VSV-ers, gebruiken voor gerichte acties om in de toekomst uitval te verminderen of te vermijden. Anticiperen wanneer er een zeer grote kans op uitval wordt voorspeld. Vroegtijdig opsporen en begeleiden. \n",
        "\n",
        "Voorkomen is nog altijd beter dan genezen. \n",
        "\n",
        "Hieronder laat ik zien hoe je met een eenvoudig Machine Learning Model, op basis van een lijstje variabelen, een bepaald doel kan voorspellen.\n",
        "\n",
        "# Wat is AI en Machine Learning?\n",
        "Kunstmatige intelligentie (AI) is op dit moment een zeer populair onderwerp, en wordt vaak alleen geassocieerd met chatbots zoals ChatGPT, Siri of andere cognitieve programma's zoals Watson. Echter, AI is veel breder dan dat. Om te begrijpen wat we lezen in de pers en op het internet, is het belangrijk om enkele \"basics\" van AI te begrijpen, die vaak verloren gaan te midden van de huidige AI-hype. Door deze fundamentele principes te begrijpen, kun je je eigen oordeel vormen over wat je leest of hoort over AI.\n",
        "\n",
        "**Definitie van AI**\n",
        "![Populaire definitie van AI](definitieAI.png)\n",
        "\n",
        "Kunstmatige intelligentie, ook bekend als Artificial Intelligence (AI), is een tak van wetenschap die zich bezighoudt met onderzoek naar-, en de ontwikkeling van, machines die taken kunnen uitvoeren waarvoor normaal gesproken menselijke intelligentie  voor nodig is. \n",
        "\n",
        "## Wat is Machine Learning?\n",
        "\n",
        "Machine Learning is een deelgebied van het vakgebied Arificial Intelligence. Andere deelgebieden van AI zijn o.a.: Redeneren, Kennisrepresentatie, Planning, **Leren**, Natuurlijke Taalverwerking (communicatie), Perceptie en het Vermogen om objecten te verplaatsen en te manipuleren. \n",
        "\n",
        "### Hoe leert een Machine?\n",
        "Vandaag de dag is dit waarschijnlijk het meest populaire aspect van AI. In plaats van machines te programmeren om te doen wat ze moeten doen, zijn machines in staat om automatisch te leren van data: Machine Learning. \n",
        "\n",
        ">Stel dat je een lerend programma wilt maken dat spammail herkent zodat die niet in je inbox, maar in een aparte map terechtkomt. Dan kan je een eenvoudig leerprincipe hanteren gebaseerd op een vorm van trial en error en reinforcement. Je traint een model met een groot aantal emails, het programma voorspelt dan op basis van trial en error (gokje) voor elke mail of het een spammail is of juist niet. Het pricipe van reinforcement learning werkt dan als volgt: computer classificeert mail A als spam, en jij als gebruiker geeft aan of dit een juiste voorspelling is (beloning) of juist niet (geen beloning), waarna de kenmerken en classificatie -spam of niet- van mail A worden opgeslagen. Op deze manier, bij elke beoordeelde mail, leert het programma steeds beter om spam te herkennen. Train je het programma met genoeg van deze wel of niet spam berichten dan \"leert\" het programma steeds beter om dit zelfstandig te kunnen doen. \n",
        "\n",
        "*Hoe meer data je hebt om je voorspelmodel mee te trainen, hoe betrouwbaar de voorspellingen zullen worden.*    \n",
        "\n",
        "Mensen leren gedurende hun leven, en vooral in de vroege jaren, een enorme hoeveelheid aan dingen, zoals praten, schrijven, wiskunde, enzovoort. Het mogelijk maken van machines om deze capaciteit te hebben, maakt ze tot op zekere hoogte intelligent. Machines zijn ook in staat om hun prestaties te verbeteren door te leren door te doen. Dankzij de populariteit van Big Data zijn er tal van publicaties over Machine Learning, evenals cloud-gebaseerde tools om ML-algoritmen uit te voeren wanneer je ze nodig hebt. \n",
        "\n",
        "# Aan de slag\n",
        "\n",
        "Nu we een algemeen beeld hebben van AI en ML wordt het tijd om dieper in te gaan op hoe we aan de hand van historische data zaken kunnen voorspellen.\n",
        "\n",
        "Vanwege voor de hand liggende redenen gaan we geen VSV-ers voorspellen op basis van een Eduarte uitdraai met studentgegevens, maar gebruiken we een dataset die regelmatig door Data Scientists wordt gebruikt om modellen en technieken op uit te proberen: *het zogenaamde Melbourne Bestand met data over de woningmarkt in Melbourne Australia*. **Waarmee we de prijzen van huizen in Melbourne gaan voorspellen!**\n",
        "\n",
        "## Wat is het idee?\n",
        "Alleereerst wil ik benadrukken dat ik hier slechts het principe van voorspellingsmodellen ga uitleggen, waardoor ik her en der zaken, uit didactisch oogpunt, wat oversimplificeer. \n",
        "\n",
        "Het tweede punt is waarom ik gekozen heb om de prijs van een huis te voorspellen aan de hand van een aantal kenmerken. Simpelweg omdat het voorspellen van een prijs van een huis op basis van de kenmerken van dit huis, in principe lijkt op het a-priori (bijvoorbeeld bij moment van inschrijving) voorspellen van de kans dat een student VSV-er wordt op basis van bepaalde kenmerken zoals die in Eduarte worden vastgelegd.\n",
        "\n",
        "> *Dat gezegd hebbende laat ik hieronder een echt werkend, realtime model zien waarmee je op basis van historische data over prijzen en kenmerken van huizen, de prijs van een huis kan voorspellen als je beschikt over een paar kenmerken als aantal kamers, buurt, oppervlakte enz.*\n",
        "\n",
        "## Selectie van kenmerken die we gaan modelleren\n",
        "Omdat de dataset uit te veel kenmerken/ variabelen bestaat, waarvan wellicht sommige weinig toegevoegde voorspellende waarde hebben, gaan we starten met het opschonen van de dataset. \n",
        "\n",
        "Maar hoe bepaal je welke kenmerken relevant zijn, en welke niet?\n",
        "Hierover bestaan talloze theorieen die in het huidig kader te ver gaan om over uit te weiden. Mogelijk dat ik daar later, in een volgende **10 Minuten Thema** uitgebreider op zal ingaan. \n",
        "\n",
        "Voor nu maken we gebruik van onze intuitie, en kiezen we gewoon variabelen waarvan we denken dat die relevant zijn voor de prijs van een huis. Nogmaals in een volgende 10 Minuten Thema zal ik laten zien hoe je met statistische technieken automatisch variablelen kan prioriteren.\n",
        "\n",
        "Om een keuze te kunnen maken moeten we eerst weten uit welke variabelen/kolommen onze dataset bestaat."
      ]
    },
    {
      "cell_type": "code",
      "execution_count": 15,
      "id": "b922c80a",
      "metadata": {
        "ExecuteTime": {
          "end_time": "2023-11-10T13:15:25.060659+00:00",
          "start_time": "2023-11-10T13:15:24.875325+00:00"
        },
        "noteable": {
          "output_collection_id": "21eff797-a191-4ec0-97ec-348bf18ada3c"
        },
        "papermill": {
          "duration": 0.124191,
          "end_time": "2023-04-21T13:39:10.782671",
          "exception": false,
          "start_time": "2023-04-21T13:39:10.658480",
          "status": "completed"
        },
        "scrolled": false,
        "tags": []
      },
      "outputs": [
        {
          "data": {
            "text/plain": [
              "Index(['Suburb', 'Address', 'Rooms', 'Type', 'Price', 'Method', 'SellerG',\n",
              "       'Date', 'Distance', 'Postcode', 'Bedroom2', 'Bathroom', 'Car',\n",
              "       'Landsize', 'BuildingArea', 'YearBuilt', 'CouncilArea', 'Lattitude',\n",
              "       'Longtitude', 'Regionname', 'Propertycount'],\n",
              "      dtype='object')"
            ]
          },
          "execution_count": 15,
          "metadata": {},
          "output_type": "execute_result"
        }
      ],
      "source": [
        "import pandas as pd # We laden een Python module in\n",
        "melbourne_file_path = 'notebooks/melb_data.csv'  # Dit is het oorsprokelijke databestand \n",
        "melbourne_data = pd.read_csv(melbourne_file_path) # We lezen het databestand in en stoppen dit in een dataframe\n",
        "\n",
        "melbourne_data.columns # We tonen welke kolommen er in de dataframe staat"
      ]
    },
    {
      "cell_type": "markdown",
      "id": "909506cc-5717-4ee9-be38-30f91a048a6a",
      "metadata": {
        "noteable": {
          "cell_type": "markdown"
        }
      },
      "source": [
        "**Het bestand bestaat dus uit kenmerken als buurt, aantal kamer, slaapkamers, Badkamer, enz. En uiteraard de prijs.** \n",
        "\n",
        "We gaan het bestand enigzins opknappen, en we halen eerst de ontbrekende waarden uit het bestand.\n",
        "\n",
        "Daarna tonen we de eerste 5 rijen om een beeld te krijgen."
      ]
    },
    {
      "cell_type": "code",
      "execution_count": 16,
      "id": "255ece9f",
      "metadata": {
        "ExecuteTime": {
          "end_time": "2023-11-09T10:37:27.310664+00:00",
          "start_time": "2023-11-09T10:37:27.052973+00:00"
        },
        "datalink": {
          "958d4934-acc5-4bea-8856-17f736812139": {
            "applied_filters": [],
            "dataframe_info": {
              "default_index_used": true,
              "orig_num_cols": 21,
              "orig_num_rows": 5,
              "orig_size_bytes": 880,
              "truncated_num_cols": 21,
              "truncated_num_rows": 5,
              "truncated_size_bytes": 880,
              "truncated_string_columns": []
            },
            "display_id": "958d4934-acc5-4bea-8856-17f736812139",
            "dx_settings": {
              "ALLOW_NOTEABLE_ATTRS": true,
              "COLUMN_SAMPLING_METHOD": "outer",
              "DB_LOCATION": ":memory:",
              "DEV_MODE": false,
              "DISPLAY_MAX_COLUMNS": 100,
              "DISPLAY_MAX_ROWS": 50000,
              "DISPLAY_MODE": "simple",
              "ENABLE_ASSIGNMENT": true,
              "ENABLE_DATALINK": true,
              "FLATTEN_COLUMN_VALUES": true,
              "FLATTEN_INDEX_VALUES": false,
              "GENERATE_DEX_METADATA": false,
              "HTML_TABLE_SCHEMA": false,
              "LOG_LEVEL": 30,
              "MAX_RENDER_SIZE_BYTES": 104857600,
              "MAX_STRING_LENGTH": 250,
              "NUM_PAST_SAMPLES_TRACKED": 3,
              "RANDOM_STATE": 12648430,
              "RESET_INDEX_VALUES": false,
              "ROW_SAMPLING_METHOD": "random",
              "SAMPLING_FACTOR": 0.1,
              "SAMPLING_METHOD": "random",
              "STRINGIFY_COLUMN_VALUES": true,
              "STRINGIFY_INDEX_VALUES": false
            },
            "sample_history": [],
            "sampling_time": "2023-11-09T10:37:27.140245",
            "user_variable_name": null,
            "variable_name": "unk_dataframe_20fae2b3cf28477d9e0c713dcb271045"
          }
        },
        "dx": {
          "dashboard": {
            "multiViews": []
          },
          "fieldMetadata": {},
          "simpleTable": true,
          "updated": 1699526336107,
          "views": [
            {
              "annotationRules": [],
              "chart": {},
              "chartMode": "grid",
              "confoRules": [],
              "decoration": {
                "footer": "",
                "subtitle": "",
                "title": "Table"
              },
              "facets": [],
              "filterSettings": {
                "SHOW_FILTER_PANEL": true,
                "filters": []
              },
              "id": "first-view",
              "isDefault": true,
              "type": "public",
              "userID": ""
            },
            {
              "annotationRules": [],
              "chart": {
                "facets": []
              },
              "chartMode": "grid",
              "confoRules": [],
              "decoration": {
                "footer": "",
                "subtitle": "",
                "title": "Table"
              },
              "facets": [],
              "filterSettings": {
                "SHOW_FILTER_PANEL": true,
                "filters": []
              },
              "id": "first-view",
              "isDefault": true,
              "isTransitory": true,
              "type": "public",
              "userID": ""
            }
          ]
        },
        "noteable": {
          "output_collection_id": "2282bc74-a28d-4413-b960-cddbe0f63875"
        },
        "papermill": {
          "duration": 0.036347,
          "end_time": "2023-04-21T13:39:10.823661",
          "exception": false,
          "start_time": "2023-04-21T13:39:10.787314",
          "status": "completed"
        },
        "tags": []
      },
      "outputs": [
        {
          "data": {
            "text/html": [
              "<div>\n",
              "<style scoped>\n",
              "    .dataframe tbody tr th:only-of-type {\n",
              "        vertical-align: middle;\n",
              "    }\n",
              "\n",
              "    .dataframe tbody tr th {\n",
              "        vertical-align: top;\n",
              "    }\n",
              "\n",
              "    .dataframe thead th {\n",
              "        text-align: right;\n",
              "    }\n",
              "</style>\n",
              "<table border=\"1\" class=\"dataframe\">\n",
              "  <thead>\n",
              "    <tr style=\"text-align: right;\">\n",
              "      <th></th>\n",
              "      <th>Suburb</th>\n",
              "      <th>Address</th>\n",
              "      <th>Rooms</th>\n",
              "      <th>Type</th>\n",
              "      <th>Price</th>\n",
              "      <th>Method</th>\n",
              "      <th>SellerG</th>\n",
              "      <th>Date</th>\n",
              "      <th>Distance</th>\n",
              "      <th>Postcode</th>\n",
              "      <th>...</th>\n",
              "      <th>Bathroom</th>\n",
              "      <th>Car</th>\n",
              "      <th>Landsize</th>\n",
              "      <th>BuildingArea</th>\n",
              "      <th>YearBuilt</th>\n",
              "      <th>CouncilArea</th>\n",
              "      <th>Lattitude</th>\n",
              "      <th>Longtitude</th>\n",
              "      <th>Regionname</th>\n",
              "      <th>Propertycount</th>\n",
              "    </tr>\n",
              "  </thead>\n",
              "  <tbody>\n",
              "    <tr>\n",
              "      <th>1</th>\n",
              "      <td>Abbotsford</td>\n",
              "      <td>25 Bloomburg St</td>\n",
              "      <td>2</td>\n",
              "      <td>h</td>\n",
              "      <td>1035000</td>\n",
              "      <td>S</td>\n",
              "      <td>Biggin</td>\n",
              "      <td>4/02/2016</td>\n",
              "      <td>2.5</td>\n",
              "      <td>3067</td>\n",
              "      <td>...</td>\n",
              "      <td>1</td>\n",
              "      <td>0.0</td>\n",
              "      <td>156</td>\n",
              "      <td>79.0</td>\n",
              "      <td>1900.0</td>\n",
              "      <td>Yarra</td>\n",
              "      <td>-37.8079</td>\n",
              "      <td>144.9934</td>\n",
              "      <td>Northern Metropolitan</td>\n",
              "      <td>4019</td>\n",
              "    </tr>\n",
              "    <tr>\n",
              "      <th>2</th>\n",
              "      <td>Abbotsford</td>\n",
              "      <td>5 Charles St</td>\n",
              "      <td>3</td>\n",
              "      <td>h</td>\n",
              "      <td>1465000</td>\n",
              "      <td>SP</td>\n",
              "      <td>Biggin</td>\n",
              "      <td>4/03/2017</td>\n",
              "      <td>2.5</td>\n",
              "      <td>3067</td>\n",
              "      <td>...</td>\n",
              "      <td>2</td>\n",
              "      <td>0.0</td>\n",
              "      <td>134</td>\n",
              "      <td>150.0</td>\n",
              "      <td>1900.0</td>\n",
              "      <td>Yarra</td>\n",
              "      <td>-37.8093</td>\n",
              "      <td>144.9944</td>\n",
              "      <td>Northern Metropolitan</td>\n",
              "      <td>4019</td>\n",
              "    </tr>\n",
              "    <tr>\n",
              "      <th>4</th>\n",
              "      <td>Abbotsford</td>\n",
              "      <td>55a Park St</td>\n",
              "      <td>4</td>\n",
              "      <td>h</td>\n",
              "      <td>1600000</td>\n",
              "      <td>VB</td>\n",
              "      <td>Nelson</td>\n",
              "      <td>4/06/2016</td>\n",
              "      <td>2.5</td>\n",
              "      <td>3067</td>\n",
              "      <td>...</td>\n",
              "      <td>1</td>\n",
              "      <td>2.0</td>\n",
              "      <td>120</td>\n",
              "      <td>142.0</td>\n",
              "      <td>2014.0</td>\n",
              "      <td>Yarra</td>\n",
              "      <td>-37.8072</td>\n",
              "      <td>144.9941</td>\n",
              "      <td>Northern Metropolitan</td>\n",
              "      <td>4019</td>\n",
              "    </tr>\n",
              "    <tr>\n",
              "      <th>6</th>\n",
              "      <td>Abbotsford</td>\n",
              "      <td>124 Yarra St</td>\n",
              "      <td>3</td>\n",
              "      <td>h</td>\n",
              "      <td>1876000</td>\n",
              "      <td>S</td>\n",
              "      <td>Nelson</td>\n",
              "      <td>7/05/2016</td>\n",
              "      <td>2.5</td>\n",
              "      <td>3067</td>\n",
              "      <td>...</td>\n",
              "      <td>2</td>\n",
              "      <td>0.0</td>\n",
              "      <td>245</td>\n",
              "      <td>210.0</td>\n",
              "      <td>1910.0</td>\n",
              "      <td>Yarra</td>\n",
              "      <td>-37.8024</td>\n",
              "      <td>144.9993</td>\n",
              "      <td>Northern Metropolitan</td>\n",
              "      <td>4019</td>\n",
              "    </tr>\n",
              "    <tr>\n",
              "      <th>7</th>\n",
              "      <td>Abbotsford</td>\n",
              "      <td>98 Charles St</td>\n",
              "      <td>2</td>\n",
              "      <td>h</td>\n",
              "      <td>1636000</td>\n",
              "      <td>S</td>\n",
              "      <td>Nelson</td>\n",
              "      <td>8/10/2016</td>\n",
              "      <td>2.5</td>\n",
              "      <td>3067</td>\n",
              "      <td>...</td>\n",
              "      <td>1</td>\n",
              "      <td>2.0</td>\n",
              "      <td>256</td>\n",
              "      <td>107.0</td>\n",
              "      <td>1890.0</td>\n",
              "      <td>Yarra</td>\n",
              "      <td>-37.0806</td>\n",
              "      <td>144.9954</td>\n",
              "      <td>Northern Metropolitan</td>\n",
              "      <td>4019</td>\n",
              "    </tr>\n",
              "  </tbody>\n",
              "</table>\n",
              "<p>5 rows × 21 columns</p>\n",
              "</div>"
            ],
            "text/plain": [
              "       Suburb          Address  Rooms Type    Price Method SellerG       Date  \\\n",
              "1  Abbotsford  25 Bloomburg St      2    h  1035000      S  Biggin  4/02/2016   \n",
              "2  Abbotsford     5 Charles St      3    h  1465000     SP  Biggin  4/03/2017   \n",
              "4  Abbotsford      55a Park St      4    h  1600000     VB  Nelson  4/06/2016   \n",
              "6  Abbotsford     124 Yarra St      3    h  1876000      S  Nelson  7/05/2016   \n",
              "7  Abbotsford    98 Charles St      2    h  1636000      S  Nelson  8/10/2016   \n",
              "\n",
              "   Distance  Postcode  ...  Bathroom  Car  Landsize  BuildingArea  YearBuilt  \\\n",
              "1       2.5      3067  ...         1  0.0       156          79.0     1900.0   \n",
              "2       2.5      3067  ...         2  0.0       134         150.0     1900.0   \n",
              "4       2.5      3067  ...         1  2.0       120         142.0     2014.0   \n",
              "6       2.5      3067  ...         2  0.0       245         210.0     1910.0   \n",
              "7       2.5      3067  ...         1  2.0       256         107.0     1890.0   \n",
              "\n",
              "   CouncilArea Lattitude  Longtitude             Regionname Propertycount  \n",
              "1        Yarra  -37.8079    144.9934  Northern Metropolitan          4019  \n",
              "2        Yarra  -37.8093    144.9944  Northern Metropolitan          4019  \n",
              "4        Yarra  -37.8072    144.9941  Northern Metropolitan          4019  \n",
              "6        Yarra  -37.8024    144.9993  Northern Metropolitan          4019  \n",
              "7        Yarra  -37.0806    144.9954  Northern Metropolitan          4019  \n",
              "\n",
              "[5 rows x 21 columns]"
            ]
          },
          "execution_count": 16,
          "metadata": {},
          "output_type": "execute_result"
        }
      ],
      "source": [
        "\n",
        "# dropna drops missing values (think of na as \"not available\")\n",
        "melbourne_data = melbourne_data.dropna(axis=0)\n",
        "melbourne_data.head()"
      ]
    },
    {
      "cell_type": "markdown",
      "id": "467e8e6b",
      "metadata": {
        "papermill": {
          "duration": 0.004171,
          "end_time": "2023-04-21T13:39:10.832423",
          "exception": false,
          "start_time": "2023-04-21T13:39:10.828252",
          "status": "completed"
        },
        "tags": []
      },
      "source": [
        "Om vervolgens een subset van de data te selecteren. \n",
        "We onderscheiden hierbij:\n",
        "1. Het doel van de voorspelling, de prijs, en noemen dit \"prediction target\"\n",
        "2. De lijst met kenmerken die we voor de voorspelling gaan gebruiken, en noemen dit de \"features\" \n",
        "\n",
        "## Selecteer de kolom Price als het Prediction Target \n",
        "Net als we ooit bij wiskunde hebben geleerd, is ook hier de conventie om de letter **y** te gebruiken. Dus de code die we moeten bewaren voor de prijs van de huizen in de Melbourne data is"
      ]
    },
    {
      "cell_type": "code",
      "execution_count": 17,
      "id": "e32e7c35",
      "metadata": {
        "ExecuteTime": {
          "end_time": "2023-11-09T10:44:26.308038+00:00",
          "start_time": "2023-11-09T10:44:26.152722+00:00"
        },
        "noteable": {
          "output_collection_id": "33a0ad03-ceb4-43cf-b377-06a280028c0f"
        },
        "papermill": {
          "duration": 0.01824,
          "end_time": "2023-04-21T13:39:10.855226",
          "exception": false,
          "start_time": "2023-04-21T13:39:10.836986",
          "status": "completed"
        },
        "tags": []
      },
      "outputs": [],
      "source": [
        "y = melbourne_data.Price"
      ]
    },
    {
      "cell_type": "markdown",
      "id": "5e6adb74",
      "metadata": {
        "papermill": {
          "duration": 0.004275,
          "end_time": "2023-04-21T13:39:10.864139",
          "exception": false,
          "start_time": "2023-04-21T13:39:10.859864",
          "status": "completed"
        },
        "tags": []
      },
      "source": [
        "# Kiezen van de kenmerken als \"Features\"\n",
        "De kolommen die we als input gebruiken in ons model noemen we de \"features.\" In ons geval, zijn dat de kolommen die de prijs van een huis bepalen. De ene keer gebruik je hiervoor alle kolommen, behalve de doelkolom, als features. Een andere keer is het beter om er slechts een paar te gebruiken. \n",
        "\n",
        "In dit voorbeeld gebruik ik maar een paar kolommen voor ons model, maar je begrijpt dat hiermee gevarieerd kan worden. \n",
        "\n",
        "In ons voorbeeld gebruiken we **Kamers, Keuken, Oppervlakte, Lattitude, en Longtitude** als de kenmerken:"
      ]
    },
    {
      "cell_type": "code",
      "execution_count": 18,
      "id": "18eb32e0",
      "metadata": {
        "ExecuteTime": {
          "end_time": "2023-11-09T10:44:40.097524+00:00",
          "start_time": "2023-11-09T10:44:39.941697+00:00"
        },
        "noteable": {
          "output_collection_id": "944c0ee7-0ab5-4d4d-9967-9b8454c64b7c"
        },
        "papermill": {
          "duration": 0.014159,
          "end_time": "2023-04-21T13:39:10.882871",
          "exception": false,
          "start_time": "2023-04-21T13:39:10.868712",
          "status": "completed"
        },
        "tags": []
      },
      "outputs": [],
      "source": [
        "melbourne_features = ['Rooms', 'Bathroom', 'Landsize', 'Lattitude', 'Longtitude']"
      ]
    },
    {
      "cell_type": "markdown",
      "id": "500911b2",
      "metadata": {
        "papermill": {
          "duration": 0.004331,
          "end_time": "2023-04-21T13:39:10.891901",
          "exception": false,
          "start_time": "2023-04-21T13:39:10.887570",
          "status": "completed"
        },
        "tags": []
      },
      "source": [
        "En de conventie is om deze data **X** te noemen."
      ]
    },
    {
      "cell_type": "code",
      "execution_count": 19,
      "id": "8e4c4083",
      "metadata": {
        "ExecuteTime": {
          "end_time": "2023-11-09T10:44:56.386896+00:00",
          "start_time": "2023-11-09T10:44:56.229297+00:00"
        },
        "noteable": {
          "output_collection_id": "2744c261-c4a2-4e5a-bc99-387edc47196b"
        },
        "papermill": {
          "duration": 0.014292,
          "end_time": "2023-04-21T13:39:10.910878",
          "exception": false,
          "start_time": "2023-04-21T13:39:10.896586",
          "status": "completed"
        },
        "tags": []
      },
      "outputs": [],
      "source": [
        "X = melbourne_data[melbourne_features]"
      ]
    },
    {
      "cell_type": "markdown",
      "id": "6feb915d",
      "metadata": {
        "papermill": {
          "duration": 0.004376,
          "end_time": "2023-04-21T13:39:10.919979",
          "exception": false,
          "start_time": "2023-04-21T13:39:10.915603",
          "status": "completed"
        },
        "tags": []
      },
      "source": [
        "Laten we even kijken naar enkele basis statistieken, en naar de eerste 5 rijen van onze voorspellers."
      ]
    },
    {
      "cell_type": "code",
      "execution_count": 20,
      "id": "f9e607b3",
      "metadata": {
        "ExecuteTime": {
          "end_time": "2023-11-08T16:33:02.751956+00:00",
          "start_time": "2023-11-08T16:33:02.517753+00:00"
        },
        "datalink": {
          "53c39ec0-19d7-4345-be0a-90a232fb3875": {
            "applied_filters": [],
            "dataframe_info": {
              "default_index_used": false,
              "orig_num_cols": 5,
              "orig_num_rows": 8,
              "orig_size_bytes": 384,
              "truncated_num_cols": 5,
              "truncated_num_rows": 8,
              "truncated_size_bytes": 384,
              "truncated_string_columns": []
            },
            "display_id": "53c39ec0-19d7-4345-be0a-90a232fb3875",
            "dx_settings": {
              "ALLOW_NOTEABLE_ATTRS": true,
              "COLUMN_SAMPLING_METHOD": "outer",
              "DB_LOCATION": ":memory:",
              "DEV_MODE": false,
              "DISPLAY_MAX_COLUMNS": 100,
              "DISPLAY_MAX_ROWS": 50000,
              "DISPLAY_MODE": "simple",
              "ENABLE_ASSIGNMENT": true,
              "ENABLE_DATALINK": true,
              "FLATTEN_COLUMN_VALUES": true,
              "FLATTEN_INDEX_VALUES": false,
              "GENERATE_DEX_METADATA": false,
              "HTML_TABLE_SCHEMA": false,
              "LOG_LEVEL": 30,
              "MAX_RENDER_SIZE_BYTES": 104857600,
              "MAX_STRING_LENGTH": 250,
              "NUM_PAST_SAMPLES_TRACKED": 3,
              "RANDOM_STATE": 12648430,
              "RESET_INDEX_VALUES": false,
              "ROW_SAMPLING_METHOD": "random",
              "SAMPLING_FACTOR": 0.1,
              "SAMPLING_METHOD": "random",
              "STRINGIFY_COLUMN_VALUES": true,
              "STRINGIFY_INDEX_VALUES": false
            },
            "sample_history": [],
            "sampling_time": "2023-11-08T16:33:02.593272",
            "user_variable_name": null,
            "variable_name": "unk_dataframe_8cc8891fbbcf4aca9aaf2f2e4f2c4fb1"
          }
        },
        "dx": {
          "fieldMetadata": {},
          "simpleTable": true,
          "updated": 1699526712268,
          "views": []
        },
        "noteable": {
          "output_collection_id": "d37d3fae-c4cf-4d8e-86fb-7033f057587d"
        },
        "papermill": {
          "duration": 0.052396,
          "end_time": "2023-04-21T13:39:10.977099",
          "exception": false,
          "start_time": "2023-04-21T13:39:10.924703",
          "status": "completed"
        },
        "tags": []
      },
      "outputs": [
        {
          "data": {
            "text/html": [
              "<div>\n",
              "<style scoped>\n",
              "    .dataframe tbody tr th:only-of-type {\n",
              "        vertical-align: middle;\n",
              "    }\n",
              "\n",
              "    .dataframe tbody tr th {\n",
              "        vertical-align: top;\n",
              "    }\n",
              "\n",
              "    .dataframe thead th {\n",
              "        text-align: right;\n",
              "    }\n",
              "</style>\n",
              "<table border=\"1\" class=\"dataframe\">\n",
              "  <thead>\n",
              "    <tr style=\"text-align: right;\">\n",
              "      <th></th>\n",
              "      <th>Rooms</th>\n",
              "      <th>Bathroom</th>\n",
              "      <th>Landsize</th>\n",
              "      <th>Lattitude</th>\n",
              "      <th>Longtitude</th>\n",
              "    </tr>\n",
              "  </thead>\n",
              "  <tbody>\n",
              "    <tr>\n",
              "      <th>count</th>\n",
              "      <td>6196.000000</td>\n",
              "      <td>6196.000000</td>\n",
              "      <td>6196.000000</td>\n",
              "      <td>6.196000e+03</td>\n",
              "      <td>6.196000e+03</td>\n",
              "    </tr>\n",
              "    <tr>\n",
              "      <th>mean</th>\n",
              "      <td>2.931407</td>\n",
              "      <td>1.576340</td>\n",
              "      <td>471.887185</td>\n",
              "      <td>-1.228330e+11</td>\n",
              "      <td>2.887367e+13</td>\n",
              "    </tr>\n",
              "    <tr>\n",
              "      <th>std</th>\n",
              "      <td>0.971079</td>\n",
              "      <td>0.711362</td>\n",
              "      <td>898.077055</td>\n",
              "      <td>6.836292e+12</td>\n",
              "      <td>2.029022e+14</td>\n",
              "    </tr>\n",
              "    <tr>\n",
              "      <th>min</th>\n",
              "      <td>1.000000</td>\n",
              "      <td>1.000000</td>\n",
              "      <td>0.000000</td>\n",
              "      <td>-3.806440e+14</td>\n",
              "      <td>1.440804e+02</td>\n",
              "    </tr>\n",
              "    <tr>\n",
              "      <th>25%</th>\n",
              "      <td>2.000000</td>\n",
              "      <td>1.000000</td>\n",
              "      <td>152.000000</td>\n",
              "      <td>-3.785157e+01</td>\n",
              "      <td>1.449191e+02</td>\n",
              "    </tr>\n",
              "    <tr>\n",
              "      <th>50%</th>\n",
              "      <td>3.000000</td>\n",
              "      <td>1.000000</td>\n",
              "      <td>374.000000</td>\n",
              "      <td>-3.779540e+01</td>\n",
              "      <td>1.449953e+02</td>\n",
              "    </tr>\n",
              "    <tr>\n",
              "      <th>75%</th>\n",
              "      <td>4.000000</td>\n",
              "      <td>2.000000</td>\n",
              "      <td>629.000000</td>\n",
              "      <td>-3.774440e+01</td>\n",
              "      <td>1.452855e+05</td>\n",
              "    </tr>\n",
              "    <tr>\n",
              "      <th>max</th>\n",
              "      <td>8.000000</td>\n",
              "      <td>8.000000</td>\n",
              "      <td>37000.000000</td>\n",
              "      <td>-3.706060e+01</td>\n",
              "      <td>1.459800e+15</td>\n",
              "    </tr>\n",
              "  </tbody>\n",
              "</table>\n",
              "</div>"
            ],
            "text/plain": [
              "             Rooms     Bathroom      Landsize     Lattitude    Longtitude\n",
              "count  6196.000000  6196.000000   6196.000000  6.196000e+03  6.196000e+03\n",
              "mean      2.931407     1.576340    471.887185 -1.228330e+11  2.887367e+13\n",
              "std       0.971079     0.711362    898.077055  6.836292e+12  2.029022e+14\n",
              "min       1.000000     1.000000      0.000000 -3.806440e+14  1.440804e+02\n",
              "25%       2.000000     1.000000    152.000000 -3.785157e+01  1.449191e+02\n",
              "50%       3.000000     1.000000    374.000000 -3.779540e+01  1.449953e+02\n",
              "75%       4.000000     2.000000    629.000000 -3.774440e+01  1.452855e+05\n",
              "max       8.000000     8.000000  37000.000000 -3.706060e+01  1.459800e+15"
            ]
          },
          "execution_count": 20,
          "metadata": {},
          "output_type": "execute_result"
        }
      ],
      "source": [
        "X.describe()"
      ]
    },
    {
      "cell_type": "code",
      "execution_count": 21,
      "id": "b0c05c07",
      "metadata": {
        "ExecuteTime": {
          "end_time": "2023-11-09T10:46:31.830759+00:00",
          "start_time": "2023-11-09T10:46:31.607220+00:00"
        },
        "datalink": {
          "5a28f148-6ba9-4656-988e-0e9a851a71cc": {
            "applied_filters": [],
            "dataframe_info": {
              "default_index_used": true,
              "orig_num_cols": 5,
              "orig_num_rows": 1,
              "orig_size_bytes": 48,
              "truncated_num_cols": 5,
              "truncated_num_rows": 1,
              "truncated_size_bytes": 48,
              "truncated_string_columns": []
            },
            "display_id": "5a28f148-6ba9-4656-988e-0e9a851a71cc",
            "dx_settings": {
              "ALLOW_NOTEABLE_ATTRS": true,
              "COLUMN_SAMPLING_METHOD": "outer",
              "DB_LOCATION": ":memory:",
              "DEV_MODE": false,
              "DISPLAY_MAX_COLUMNS": 100,
              "DISPLAY_MAX_ROWS": 50000,
              "DISPLAY_MODE": "simple",
              "ENABLE_ASSIGNMENT": true,
              "ENABLE_DATALINK": true,
              "FLATTEN_COLUMN_VALUES": true,
              "FLATTEN_INDEX_VALUES": false,
              "GENERATE_DEX_METADATA": false,
              "HTML_TABLE_SCHEMA": false,
              "LOG_LEVEL": 30,
              "MAX_RENDER_SIZE_BYTES": 104857600,
              "MAX_STRING_LENGTH": 250,
              "NUM_PAST_SAMPLES_TRACKED": 3,
              "RANDOM_STATE": 12648430,
              "RESET_INDEX_VALUES": false,
              "ROW_SAMPLING_METHOD": "random",
              "SAMPLING_FACTOR": 0.1,
              "SAMPLING_METHOD": "random",
              "STRINGIFY_COLUMN_VALUES": true,
              "STRINGIFY_INDEX_VALUES": false
            },
            "sample_history": [],
            "sampling_time": "2023-11-09T10:46:13.615348",
            "user_variable_name": null,
            "variable_name": "unk_dataframe_8dedf10c4cc0446ca39c796cd007aac6"
          },
          "c750a858-f9ff-49ac-a1fe-751d66b89293": {
            "applied_filters": [],
            "dataframe_info": {
              "default_index_used": true,
              "orig_num_cols": 5,
              "orig_num_rows": 10,
              "orig_size_bytes": 480,
              "truncated_num_cols": 5,
              "truncated_num_rows": 10,
              "truncated_size_bytes": 480,
              "truncated_string_columns": []
            },
            "display_id": "c750a858-f9ff-49ac-a1fe-751d66b89293",
            "dx_settings": {
              "ALLOW_NOTEABLE_ATTRS": true,
              "COLUMN_SAMPLING_METHOD": "outer",
              "DB_LOCATION": ":memory:",
              "DEV_MODE": false,
              "DISPLAY_MAX_COLUMNS": 100,
              "DISPLAY_MAX_ROWS": 50000,
              "DISPLAY_MODE": "simple",
              "ENABLE_ASSIGNMENT": true,
              "ENABLE_DATALINK": true,
              "FLATTEN_COLUMN_VALUES": true,
              "FLATTEN_INDEX_VALUES": false,
              "GENERATE_DEX_METADATA": false,
              "HTML_TABLE_SCHEMA": false,
              "LOG_LEVEL": 30,
              "MAX_RENDER_SIZE_BYTES": 104857600,
              "MAX_STRING_LENGTH": 250,
              "NUM_PAST_SAMPLES_TRACKED": 3,
              "RANDOM_STATE": 12648430,
              "RESET_INDEX_VALUES": false,
              "ROW_SAMPLING_METHOD": "random",
              "SAMPLING_FACTOR": 0.1,
              "SAMPLING_METHOD": "random",
              "STRINGIFY_COLUMN_VALUES": true,
              "STRINGIFY_INDEX_VALUES": false
            },
            "sample_history": [],
            "sampling_time": "2023-11-09T10:46:31.670514",
            "user_variable_name": null,
            "variable_name": "unk_dataframe_12365392b6a94aed838901761685e6a8"
          },
          "d8d4fea0-a5d8-4c8d-a6ba-df351237aabd": {
            "applied_filters": [],
            "dataframe_info": {
              "default_index_used": true,
              "orig_num_cols": 5,
              "orig_num_rows": 5,
              "orig_size_bytes": 240,
              "truncated_num_cols": 5,
              "truncated_num_rows": 5,
              "truncated_size_bytes": 240,
              "truncated_string_columns": []
            },
            "display_id": "d8d4fea0-a5d8-4c8d-a6ba-df351237aabd",
            "dx_settings": {
              "ALLOW_NOTEABLE_ATTRS": true,
              "COLUMN_SAMPLING_METHOD": "outer",
              "DB_LOCATION": ":memory:",
              "DEV_MODE": false,
              "DISPLAY_MAX_COLUMNS": 100,
              "DISPLAY_MAX_ROWS": 50000,
              "DISPLAY_MODE": "simple",
              "ENABLE_ASSIGNMENT": true,
              "ENABLE_DATALINK": true,
              "FLATTEN_COLUMN_VALUES": true,
              "FLATTEN_INDEX_VALUES": false,
              "GENERATE_DEX_METADATA": false,
              "HTML_TABLE_SCHEMA": false,
              "LOG_LEVEL": 30,
              "MAX_RENDER_SIZE_BYTES": 104857600,
              "MAX_STRING_LENGTH": 250,
              "NUM_PAST_SAMPLES_TRACKED": 3,
              "RANDOM_STATE": 12648430,
              "RESET_INDEX_VALUES": false,
              "ROW_SAMPLING_METHOD": "random",
              "SAMPLING_FACTOR": 0.1,
              "SAMPLING_METHOD": "random",
              "STRINGIFY_COLUMN_VALUES": true,
              "STRINGIFY_INDEX_VALUES": false
            },
            "sample_history": [],
            "sampling_time": "2023-11-08T16:33:45.351912",
            "user_variable_name": null,
            "variable_name": "unk_dataframe_8abe6f2d712747459ff2a58ee1d40518"
          }
        },
        "noteable": {
          "output_collection_id": "9ef746ad-21e6-4fc5-8783-6a529e212230"
        },
        "papermill": {
          "duration": 0.024154,
          "end_time": "2023-04-21T13:39:11.006298",
          "exception": false,
          "start_time": "2023-04-21T13:39:10.982144",
          "status": "completed"
        },
        "tags": []
      },
      "outputs": [
        {
          "data": {
            "text/html": [
              "<div>\n",
              "<style scoped>\n",
              "    .dataframe tbody tr th:only-of-type {\n",
              "        vertical-align: middle;\n",
              "    }\n",
              "\n",
              "    .dataframe tbody tr th {\n",
              "        vertical-align: top;\n",
              "    }\n",
              "\n",
              "    .dataframe thead th {\n",
              "        text-align: right;\n",
              "    }\n",
              "</style>\n",
              "<table border=\"1\" class=\"dataframe\">\n",
              "  <thead>\n",
              "    <tr style=\"text-align: right;\">\n",
              "      <th></th>\n",
              "      <th>Rooms</th>\n",
              "      <th>Bathroom</th>\n",
              "      <th>Landsize</th>\n",
              "      <th>Lattitude</th>\n",
              "      <th>Longtitude</th>\n",
              "    </tr>\n",
              "  </thead>\n",
              "  <tbody>\n",
              "    <tr>\n",
              "      <th>7041</th>\n",
              "      <td>3</td>\n",
              "      <td>1</td>\n",
              "      <td>577</td>\n",
              "      <td>-37.74940</td>\n",
              "      <td>1.457030e+05</td>\n",
              "    </tr>\n",
              "    <tr>\n",
              "      <th>10321</th>\n",
              "      <td>3</td>\n",
              "      <td>1</td>\n",
              "      <td>290</td>\n",
              "      <td>-37.81767</td>\n",
              "      <td>1.454041e+06</td>\n",
              "    </tr>\n",
              "    <tr>\n",
              "      <th>6400</th>\n",
              "      <td>2</td>\n",
              "      <td>1</td>\n",
              "      <td>0</td>\n",
              "      <td>-37.84240</td>\n",
              "      <td>1.451840e+05</td>\n",
              "    </tr>\n",
              "    <tr>\n",
              "      <th>8875</th>\n",
              "      <td>2</td>\n",
              "      <td>1</td>\n",
              "      <td>241</td>\n",
              "      <td>-37.67231</td>\n",
              "      <td>1.455878e+06</td>\n",
              "    </tr>\n",
              "    <tr>\n",
              "      <th>8472</th>\n",
              "      <td>2</td>\n",
              "      <td>1</td>\n",
              "      <td>317</td>\n",
              "      <td>-37.76060</td>\n",
              "      <td>1.449995e+02</td>\n",
              "    </tr>\n",
              "    <tr>\n",
              "      <th>2540</th>\n",
              "      <td>4</td>\n",
              "      <td>2</td>\n",
              "      <td>132</td>\n",
              "      <td>-37.80040</td>\n",
              "      <td>1.449768e+02</td>\n",
              "    </tr>\n",
              "    <tr>\n",
              "      <th>8059</th>\n",
              "      <td>1</td>\n",
              "      <td>1</td>\n",
              "      <td>0</td>\n",
              "      <td>-37.86910</td>\n",
              "      <td>1.453450e+05</td>\n",
              "    </tr>\n",
              "    <tr>\n",
              "      <th>7515</th>\n",
              "      <td>4</td>\n",
              "      <td>3</td>\n",
              "      <td>635</td>\n",
              "      <td>-37.91070</td>\n",
              "      <td>1.457450e+05</td>\n",
              "    </tr>\n",
              "    <tr>\n",
              "      <th>4861</th>\n",
              "      <td>2</td>\n",
              "      <td>1</td>\n",
              "      <td>214</td>\n",
              "      <td>-37.85720</td>\n",
              "      <td>1.450660e+05</td>\n",
              "    </tr>\n",
              "    <tr>\n",
              "      <th>2657</th>\n",
              "      <td>3</td>\n",
              "      <td>2</td>\n",
              "      <td>497</td>\n",
              "      <td>-37.79580</td>\n",
              "      <td>1.449024e+02</td>\n",
              "    </tr>\n",
              "  </tbody>\n",
              "</table>\n",
              "</div>"
            ],
            "text/plain": [
              "       Rooms  Bathroom  Landsize  Lattitude    Longtitude\n",
              "7041       3         1       577  -37.74940  1.457030e+05\n",
              "10321      3         1       290  -37.81767  1.454041e+06\n",
              "6400       2         1         0  -37.84240  1.451840e+05\n",
              "8875       2         1       241  -37.67231  1.455878e+06\n",
              "8472       2         1       317  -37.76060  1.449995e+02\n",
              "2540       4         2       132  -37.80040  1.449768e+02\n",
              "8059       1         1         0  -37.86910  1.453450e+05\n",
              "7515       4         3       635  -37.91070  1.457450e+05\n",
              "4861       2         1       214  -37.85720  1.450660e+05\n",
              "2657       3         2       497  -37.79580  1.449024e+02"
            ]
          },
          "execution_count": 21,
          "metadata": {},
          "output_type": "execute_result"
        }
      ],
      "source": [
        "X.sample(10)"
      ]
    },
    {
      "cell_type": "markdown",
      "id": "34351cbe",
      "metadata": {
        "papermill": {
          "duration": 0.004932,
          "end_time": "2023-04-21T13:39:11.016601",
          "exception": false,
          "start_time": "2023-04-21T13:39:11.011669",
          "status": "completed"
        },
        "tags": []
      },
      "source": [
        "Het visueel scannen van de data is overigens een belangrijk onderdeel van het werk van een Data Scientist. Het gebeurd vaak dat verrassende of bijzondere patronen zo zichtbaar worden."
      ]
    },
    {
      "cell_type": "markdown",
      "id": "94948fc6-b549-46a3-8e72-c7fd23690aa4",
      "metadata": {},
      "source": [
        "## Bouwen van je model\n",
        "We maken gebruik van de scikit-learn bibliotheek om onze modellen te creëren. Bij het coderen wordt deze bibliotheek geschreven als sklearn. Scikit-learn is zonder twijfel de meest populaire bibliotheek voor het modelleren van het soort gegevens zoals die van onze huiddige dataset. \n",
        "\n",
        "De stappen voor het opbouwen en gebruiken van een model zijn als volgt:\n",
        "\n",
        "1. **Define:** Wat voor soort model wordt het? Een beslissingsboom? Een ander type model? Er worden ook andere parameters van het modeltype gespecificeerd.\n",
        "2. **Fit:**: Leg patronen vast uit de verstrekte gegevens. Dit is het hart van het modelleren.\n",
        "3. **Predict:**: Precies wat het klinkt.\n",
        "4. **Evaluate**: Bepaal hoe nauwkeurig de voorspellingen van het model zijn.\n",
        "\n",
        "Hieronder een voorbeeld van een beslissingsboom model, en hoe de kenmerken passen op de doelvariabele.\n"
      ]
    },
    {
      "cell_type": "markdown",
      "id": "e633b7a7",
      "metadata": {},
      "source": [
        "![Beslissingsboom](decissiontree.png)"
      ]
    },
    {
      "cell_type": "code",
      "execution_count": 22,
      "id": "65a018f5",
      "metadata": {
        "ExecuteTime": {
          "end_time": "2023-11-09T10:47:00.560471+00:00",
          "start_time": "2023-11-09T10:46:59.999231+00:00"
        },
        "noteable": {
          "output_collection_id": "8963f623-4808-43ba-984e-3b1b5ebf68f8"
        },
        "papermill": {
          "duration": 1.428257,
          "end_time": "2023-04-21T13:39:12.461460",
          "exception": false,
          "start_time": "2023-04-21T13:39:11.033203",
          "status": "completed"
        },
        "tags": []
      },
      "outputs": [
        {
          "data": {
            "text/html": [
              "<style>#sk-container-id-2 {color: black;}#sk-container-id-2 pre{padding: 0;}#sk-container-id-2 div.sk-toggleable {background-color: white;}#sk-container-id-2 label.sk-toggleable__label {cursor: pointer;display: block;width: 100%;margin-bottom: 0;padding: 0.3em;box-sizing: border-box;text-align: center;}#sk-container-id-2 label.sk-toggleable__label-arrow:before {content: \"▸\";float: left;margin-right: 0.25em;color: #696969;}#sk-container-id-2 label.sk-toggleable__label-arrow:hover:before {color: black;}#sk-container-id-2 div.sk-estimator:hover label.sk-toggleable__label-arrow:before {color: black;}#sk-container-id-2 div.sk-toggleable__content {max-height: 0;max-width: 0;overflow: hidden;text-align: left;background-color: #f0f8ff;}#sk-container-id-2 div.sk-toggleable__content pre {margin: 0.2em;color: black;border-radius: 0.25em;background-color: #f0f8ff;}#sk-container-id-2 input.sk-toggleable__control:checked~div.sk-toggleable__content {max-height: 200px;max-width: 100%;overflow: auto;}#sk-container-id-2 input.sk-toggleable__control:checked~label.sk-toggleable__label-arrow:before {content: \"▾\";}#sk-container-id-2 div.sk-estimator input.sk-toggleable__control:checked~label.sk-toggleable__label {background-color: #d4ebff;}#sk-container-id-2 div.sk-label input.sk-toggleable__control:checked~label.sk-toggleable__label {background-color: #d4ebff;}#sk-container-id-2 input.sk-hidden--visually {border: 0;clip: rect(1px 1px 1px 1px);clip: rect(1px, 1px, 1px, 1px);height: 1px;margin: -1px;overflow: hidden;padding: 0;position: absolute;width: 1px;}#sk-container-id-2 div.sk-estimator {font-family: monospace;background-color: #f0f8ff;border: 1px dotted black;border-radius: 0.25em;box-sizing: border-box;margin-bottom: 0.5em;}#sk-container-id-2 div.sk-estimator:hover {background-color: #d4ebff;}#sk-container-id-2 div.sk-parallel-item::after {content: \"\";width: 100%;border-bottom: 1px solid gray;flex-grow: 1;}#sk-container-id-2 div.sk-label:hover label.sk-toggleable__label {background-color: #d4ebff;}#sk-container-id-2 div.sk-serial::before {content: \"\";position: absolute;border-left: 1px solid gray;box-sizing: border-box;top: 0;bottom: 0;left: 50%;z-index: 0;}#sk-container-id-2 div.sk-serial {display: flex;flex-direction: column;align-items: center;background-color: white;padding-right: 0.2em;padding-left: 0.2em;position: relative;}#sk-container-id-2 div.sk-item {position: relative;z-index: 1;}#sk-container-id-2 div.sk-parallel {display: flex;align-items: stretch;justify-content: center;background-color: white;position: relative;}#sk-container-id-2 div.sk-item::before, #sk-container-id-2 div.sk-parallel-item::before {content: \"\";position: absolute;border-left: 1px solid gray;box-sizing: border-box;top: 0;bottom: 0;left: 50%;z-index: -1;}#sk-container-id-2 div.sk-parallel-item {display: flex;flex-direction: column;z-index: 1;position: relative;background-color: white;}#sk-container-id-2 div.sk-parallel-item:first-child::after {align-self: flex-end;width: 50%;}#sk-container-id-2 div.sk-parallel-item:last-child::after {align-self: flex-start;width: 50%;}#sk-container-id-2 div.sk-parallel-item:only-child::after {width: 0;}#sk-container-id-2 div.sk-dashed-wrapped {border: 1px dashed gray;margin: 0 0.4em 0.5em 0.4em;box-sizing: border-box;padding-bottom: 0.4em;background-color: white;}#sk-container-id-2 div.sk-label label {font-family: monospace;font-weight: bold;display: inline-block;line-height: 1.2em;}#sk-container-id-2 div.sk-label-container {text-align: center;}#sk-container-id-2 div.sk-container {/* jupyter's `normalize.less` sets `[hidden] { display: none; }` but bootstrap.min.css set `[hidden] { display: none !important; }` so we also need the `!important` here to be able to override the default hidden behavior on the sphinx rendered scikit-learn.org. See: https://github.com/scikit-learn/scikit-learn/issues/21755 */display: inline-block !important;position: relative;}#sk-container-id-2 div.sk-text-repr-fallback {display: none;}</style><div id=\"sk-container-id-2\" class=\"sk-top-container\"><div class=\"sk-text-repr-fallback\"><pre>DecisionTreeRegressor(random_state=1)</pre><b>In a Jupyter environment, please rerun this cell to show the HTML representation or trust the notebook. <br />On GitHub, the HTML representation is unable to render, please try loading this page with nbviewer.org.</b></div><div class=\"sk-container\" hidden><div class=\"sk-item\"><div class=\"sk-estimator sk-toggleable\"><input class=\"sk-toggleable__control sk-hidden--visually\" id=\"sk-estimator-id-2\" type=\"checkbox\" checked><label for=\"sk-estimator-id-2\" class=\"sk-toggleable__label sk-toggleable__label-arrow\">DecisionTreeRegressor</label><div class=\"sk-toggleable__content\"><pre>DecisionTreeRegressor(random_state=1)</pre></div></div></div></div></div>"
            ],
            "text/plain": [
              "DecisionTreeRegressor(random_state=1)"
            ]
          },
          "execution_count": 22,
          "metadata": {},
          "output_type": "execute_result"
        }
      ],
      "source": [
        "from sklearn.tree import DecisionTreeRegressor\n",
        "\n",
        "# Define model. Specify a number for random_state to ensure same results each run\n",
        "melbourne_model = DecisionTreeRegressor(random_state=1)\n",
        "\n",
        "# Fit model\n",
        "melbourne_model.fit(X, y)"
      ]
    },
    {
      "cell_type": "markdown",
      "id": "03849952",
      "metadata": {
        "papermill": {
          "duration": 0.00784,
          "end_time": "2023-04-21T13:39:12.477386",
          "exception": false,
          "start_time": "2023-04-21T13:39:12.469546",
          "status": "completed"
        },
        "tags": []
      },
      "source": [
        "Veel machine learning-modellen staan enige willekeurigheid toe bij het trainen van het model. Het specificeren van een getal voor random_state zorgt ervoor dat je dezelfde resultaten krijgt bij elke uitvoering. Dit wordt beschouwd als good practice. Je kunt elk willekeurig getal gebruiken, en de kwaliteit van het model zal niet betekenisvol afhangen van de exacte waarde die je kiest.\n",
        "\n",
        "We hebben nu een model dat is aangepast en dat we kunnen gebruiken om voorspellingen te doen.\n",
        "\n",
        "In de praktijk wil je voorspellingen doen voor nieuwe huizen die op de markt komen, in plaats van de huizen waarvoor we al prijzen hebben. Maar we zullen voorspellingen doen voor de eerste paar rijen van de trainingsgegevens om te zien hoe de predict-functie werkt.\n"
      ]
    },
    {
      "cell_type": "code",
      "execution_count": 23,
      "id": "fe8cefb8",
      "metadata": {
        "ExecuteTime": {
          "end_time": "2023-11-09T11:22:07.796324+00:00",
          "start_time": "2023-11-09T11:22:07.635968+00:00"
        },
        "noteable": {
          "output_collection_id": "041198ff-f989-4326-9e40-89ba9e7f7704"
        },
        "papermill": {
          "duration": 0.022576,
          "end_time": "2023-04-21T13:39:12.505764",
          "exception": false,
          "start_time": "2023-04-21T13:39:12.483188",
          "status": "completed"
        },
        "scrolled": true,
        "tags": []
      },
      "outputs": [
        {
          "name": "stdout",
          "output_type": "stream",
          "text": [
            "Voorspellen voor de volgende 5 huizen:\n",
            "   Rooms  Bathroom  Landsize  Lattitude  Longtitude\n",
            "1      2         1       156   -37.8079    144.9934\n",
            "2      3         2       134   -37.8093    144.9944\n",
            "4      4         1       120   -37.8072    144.9941\n",
            "6      3         2       245   -37.8024    144.9993\n",
            "7      2         1       256   -37.0806    144.9954\n",
            "De voorspellingen voor de respectievelijke huisprijzen zijn:\n",
            "[1035000. 1465000. 1600000. 1876000. 1636000.]\n"
          ]
        }
      ],
      "source": [
        "print(\"Voorspellen voor de volgende 5 huizen:\")\n",
        "print(X.head())\n",
        "# print(melbourne_data[['Price','Rooms', 'Bathroom', 'Landsize', 'Lattitude', 'Longtitude']].head())\n",
        "\n",
        "print(\"De voorspellingen voor de respectievelijke huisprijzen zijn:\")\n",
        "\n",
        "print(melbourne_model.predict(X.head()))"
      ]
    },
    {
      "cell_type": "code",
      "execution_count": 24,
      "id": "5f3ee6f0-0c00-4131-b189-ee19659e5171",
      "metadata": {
        "ExecuteTime": {
          "end_time": "2023-11-09T11:23:11.024147+00:00",
          "start_time": "2023-11-09T11:23:10.869066+00:00"
        },
        "jupyter": {
          "outputs_hidden": false,
          "source_hidden": false
        },
        "noteable": {
          "cell_type": "code",
          "output_collection_id": "c8b5a06a-da68-45ac-8366-a2e2c15f55dc"
        }
      },
      "outputs": [],
      "source": [
        "# print(melbourne_data[['Price','Rooms', 'Bathroom', 'Landsize', 'Lattitude', 'Longtitude']].sample())\n",
        "# print(X[X[\"Rooms\"]==2].sample(5))\n",
        "# print(melbourne_model.predict({'Rooms':2, 'Bathroom':1.0, 'Landsize':0.0, 'Lattitude':-37.8268, 'Longtitude':145.0344}))"
      ]
    },
    {
      "cell_type": "markdown",
      "id": "321001ab-832a-4016-9e65-3aa226644600",
      "metadata": {},
      "source": [
        "### Hoe goed is het model?\n",
        "We hebben nu een model gebouwd. Maar hoe goed is het?\n",
        "\n",
        "Tot slot van deze 10 Minuten Topic leer je hoe je modelvalidatie kunt gebruiken om de kwaliteit van je model te meten. Het meten van de modelkwaliteit is de sleutel tot het iteratief verbeteren van je modellen - lees dat het model leert bij elke iteratie.\n",
        "\n",
        "#### Wat is Modelvalidatie\n",
        "Je zult bijna elk model dat je ooit bouwt willen evalueren. In de meeste (maar niet alle) toepassingen is de relevante maatstaf voor de modelkwaliteit voorspellende nauwkeurigheid. Met andere woorden, zullen de voorspellingen van het model dicht bij wat er daadwerkelijk gebeurt liggen.\n",
        "\n",
        "\n",
        "Je zou eerst de modelkwaliteit moeten samenvatten op een begrijpelijke manier. Als je voorspelde en werkelijke woningwaarden vergelijkt voor 10.000 huizen, zul je waarschijnlijk een mix van goede en slechte voorspellingen vinden. Het bekijken van een lijst van 10.000 voorspelde en werkelijke waarden zou zinloos zijn. We moeten dit samenvatten tot een enkele maatstaf.\n",
        "\n",
        "\n",
        "Er zijn veel metrieken om de modelkwaliteit samen te vatten, maar we beginnen met een die **Mean Absolute Error** (ook wel **MAE** genoemd) wordt genoemd. Laten we deze metriek eens nader bekijken, te beginnen met het laatste woord, **Error**.\n",
        "De voorspellingsfout voor elk huis is: <br>\n",
        "\n",
        "**Error** = **werkelijk** - **voorspeld**\n",
        "\n",
        "Dus, als een huis 150.000 dollar kost en je voorspelde dat het 100.000 dollar zou kosten, is de **Error** 50.000 dollar.\n",
        "\n",
        "Bij de MAE-metriek nemen we de absolute waarde van elke fout. Dit zet elke fout om in een positief getal. Vervolgens nemen we het gemiddelde van die absolute fouten. Dit is onze maatstaf voor modelkwaliteit. \n",
        "\n",
        "### Conclusie\n",
        "**Gemiddeld zit ons model er dus gemiddeld zoveel dollar naast:**"
      ]
    },
    {
      "cell_type": "code",
      "execution_count": 25,
      "id": "a803abd7-12c4-433e-abe6-b24531db0697",
      "metadata": {
        "ExecuteTime": {
          "end_time": "2023-11-09T11:31:15.144781+00:00",
          "start_time": "2023-11-09T11:31:14.985842+00:00"
        },
        "noteable": {
          "output_collection_id": "4cff2185-fdf3-4a75-83ce-c41b2df9f15c"
        }
      },
      "outputs": [
        {
          "data": {
            "text/plain": [
              "1116"
            ]
          },
          "execution_count": 25,
          "metadata": {},
          "output_type": "execute_result"
        }
      ],
      "source": [
        "from sklearn.metrics import mean_absolute_error\n",
        "\n",
        "predicted_home_prices = melbourne_model.predict(X)\n",
        "round(mean_absolute_error(y, predicted_home_prices))"
      ]
    },
    {
      "cell_type": "markdown",
      "id": "15e08cd6-6195-4314-9931-14bde1070f02",
      "metadata": {},
      "source": [
        "**Bij een gemiddelde huisprijs van:** "
      ]
    },
    {
      "cell_type": "code",
      "execution_count": 26,
      "id": "ce57241a-817f-4bd2-b14a-3059b2c7afe6",
      "metadata": {
        "ExecuteTime": {
          "end_time": "2023-11-09T11:31:36.590490+00:00",
          "start_time": "2023-11-09T11:31:36.433746+00:00"
        },
        "noteable": {
          "output_collection_id": "7f81c0b8-7932-4a6c-8494-112e50b15f69"
        }
      },
      "outputs": [
        {
          "data": {
            "text/plain": [
              "1068828"
            ]
          },
          "execution_count": 26,
          "metadata": {},
          "output_type": "execute_result"
        }
      ],
      "source": [
        "melbourne_data.columns\n",
        "round(melbourne_data[\"Price\"].mean())"
      ]
    },
    {
      "cell_type": "markdown",
      "id": "f8b395bd-875c-44d9-a11b-6d9061b3b974",
      "metadata": {},
      "source": [
        "**Met een gemiddelde huisprijs van: 1.068.828 dollar, zit ons model zit er dus gemiddeld zo'n 1115 dollar naast *zo lijkt het*.**\n",
        "\n",
        "Omdat we bij het voorspellen dezelfde data hebben gebruikt als de data waarmee we het model hebben getraind, zal de werkelijke foutmarge uiteraard veel hoger liggen. \n",
        "\n",
        "Deze veelgemaakte fout gaan we tot slot corrigeren middels een veelgebruikte 80/20 truc. Hierbij gebruik je 80 procent van de data om te trainen, en de resterende 20% om je model te testen/ aan te passen. Kortom we zullen ons model moeten aanpassen  ....\n",
        "\n",
        "Het opdelen van de data doen we niet zelf maar wordt door onze module sklearn gedaan met de functie train_test_split.\n",
        "\n",
        "De details staan in de code als commentaar beschreven, en behalve de opdeling blijft het pricipe zoals ik eerder heb toegepast hetzelfde.\n",
        "\n",
        "De foutmarge, **error**, stijgt echter enorm van 1115 dollar naar \n",
        "274.211 dollar. Voor een bruikbaar voorspel model moet er dus nog een en ander gebeuren. \n"
      ]
    },
    {
      "cell_type": "code",
      "execution_count": 27,
      "id": "4f63fb0b-61bc-4c59-b67b-f316c6280f2b",
      "metadata": {
        "ExecuteTime": {
          "end_time": "2023-11-09T11:51:14.264918+00:00",
          "start_time": "2023-11-09T11:51:14.091854+00:00"
        },
        "noteable": {
          "output_collection_id": "27943dcc-3114-4917-9af1-e1de886e3e51"
        }
      },
      "outputs": [
        {
          "name": "stdout",
          "output_type": "stream",
          "text": [
            "298005\n"
          ]
        }
      ],
      "source": [
        "from sklearn.model_selection import train_test_split\n",
        "\n",
        "# split data into training and validation data, for both features and target\n",
        "# The split is based on a random number generator. Supplying a numeric value to\n",
        "# the random_state argument guarantees we get the same split every time we\n",
        "# run this script.\n",
        "train_X, val_X, train_y, val_y = train_test_split(X, y, random_state = 0)\n",
        "# Define model\n",
        "melbourne_model = DecisionTreeRegressor()\n",
        "# Fit model\n",
        "melbourne_model.fit(train_X, train_y)\n",
        "\n",
        "# get predicted prices on validation data\n",
        "val_predictions = melbourne_model.predict(val_X)\n",
        "print(round(mean_absolute_error(val_y, val_predictions)))"
      ]
    },
    {
      "cell_type": "markdown",
      "id": "33fdfa21-b9a3-4ed0-bde4-79315ff4f16d",
      "metadata": {
        "noteable": {
          "cell_type": "markdown"
        }
      },
      "source": [
        "#### Dit was het voor nu. Ik heb je laten zien hoe voorspellen globaal werkt, en hopelijk enigzins het mystieke van Lerende Machines weggenomen om zo de techniek te verduidelijken. \n",
        "\n",
        "Suggesties, wensen, bijdragen zijn van harte welkom\n",
        "\n",
        "Op naar deel 2 over ....\n",
        "\n",
        "EdF"
      ]
    },
    {
      "cell_type": "markdown",
      "id": "0b5fdca6",
      "metadata": {
        "papermill": {
          "duration": 0.006022,
          "end_time": "2023-04-21T13:39:12.528150",
          "exception": false,
          "start_time": "2023-04-21T13:39:12.522128",
          "status": "completed"
        },
        "tags": []
      },
      "source": [
        "---\n",
        "\n",
        "\n",
        "\n",
        "\n",
        "*Vragen of opmerkingen? Neem contact op met [Ed. de Feber](mailto:e.defeber@horizoncollege.nl)*"
      ]
    }
  ],
  "metadata": {
    "display_mode": "fullwidth",
    "kernel_info": {
      "name": "python3.9-noteable"
    },
    "kernelspec": {
      "display_name": "Python 3 (ipykernel)",
      "language": "python",
      "name": "python3"
    },
    "language_info": {
      "codemirror_mode": {
        "name": "ipython",
        "version": 3
      },
      "file_extension": ".py",
      "mimetype": "text/x-python",
      "name": "python",
      "nbconvert_exporter": "python",
      "pygments_lexer": "ipython3",
      "version": "3.10.8"
    },
    "papermill": {
      "default_parameters": {},
      "duration": 13.337576,
      "end_time": "2023-04-21T13:39:13.256597",
      "environment_variables": {},
      "exception": null,
      "input_path": "__notebook__.ipynb",
      "output_path": "__notebook__.ipynb",
      "parameters": {},
      "start_time": "2023-04-21T13:38:59.919021",
      "version": "2.4.0"
    },
    "selected_hardware_size": "small"
  },
  "nbformat": 4,
  "nbformat_minor": 5
}
